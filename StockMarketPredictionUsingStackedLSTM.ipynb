{
  "nbformat": 4,
  "nbformat_minor": 0,
  "metadata": {
    "colab": {
      "name": "StockMarketPredictionUsingStackedLSTM.ipynb",
      "provenance": [],
      "collapsed_sections": [],
      "authorship_tag": "ABX9TyMugO0LwE8q45XmDH37L5d9",
      "include_colab_link": true
    },
    "kernelspec": {
      "name": "python3",
      "display_name": "Python 3"
    },
    "language_info": {
      "name": "python"
    }
  },
  "cells": [
    {
      "cell_type": "markdown",
      "metadata": {
        "id": "view-in-github",
        "colab_type": "text"
      },
      "source": [
        "<a href=\"https://colab.research.google.com/github/Sankarlal-MyGH/StockMarketPredictionLSTM/blob/main/StockMarketPredictionUsingStackedLSTM.ipynb\" target=\"_parent\"><img src=\"https://colab.research.google.com/assets/colab-badge.svg\" alt=\"Open In Colab\"/></a>"
      ]
    },
    {
      "cell_type": "code",
      "metadata": {
        "id": "HMOHUzfxfosl"
      },
      "source": [
        "#Import the libraries\n",
        "### Data Collection\n",
        "import pandas_datareader as pdr\n",
        "key=\"ab4381851842b240cfca5c57f6d3d7cfb4db281c\""
      ],
      "execution_count": 1,
      "outputs": []
    },
    {
      "cell_type": "code",
      "metadata": {
        "id": "tEN3gcJbgNb7"
      },
      "source": [
        "df = pdr.get_data_tiingo('ADBE', api_key=key)\n"
      ],
      "execution_count": 2,
      "outputs": []
    },
    {
      "cell_type": "code",
      "metadata": {
        "colab": {
          "base_uri": "https://localhost:8080/",
          "height": 235
        },
        "id": "jXNxu6YJgSpk",
        "outputId": "3b7ce35c-0b1e-41ad-949d-fcba1e42f3ca"
      },
      "source": [
        "df.tail()"
      ],
      "execution_count": 3,
      "outputs": [
        {
          "output_type": "execute_result",
          "data": {
            "text/html": [
              "<div>\n",
              "<style scoped>\n",
              "    .dataframe tbody tr th:only-of-type {\n",
              "        vertical-align: middle;\n",
              "    }\n",
              "\n",
              "    .dataframe tbody tr th {\n",
              "        vertical-align: top;\n",
              "    }\n",
              "\n",
              "    .dataframe thead th {\n",
              "        text-align: right;\n",
              "    }\n",
              "</style>\n",
              "<table border=\"1\" class=\"dataframe\">\n",
              "  <thead>\n",
              "    <tr style=\"text-align: right;\">\n",
              "      <th></th>\n",
              "      <th></th>\n",
              "      <th>close</th>\n",
              "      <th>high</th>\n",
              "      <th>low</th>\n",
              "      <th>open</th>\n",
              "      <th>volume</th>\n",
              "      <th>adjClose</th>\n",
              "      <th>adjHigh</th>\n",
              "      <th>adjLow</th>\n",
              "      <th>adjOpen</th>\n",
              "      <th>adjVolume</th>\n",
              "      <th>divCash</th>\n",
              "      <th>splitFactor</th>\n",
              "    </tr>\n",
              "    <tr>\n",
              "      <th>symbol</th>\n",
              "      <th>date</th>\n",
              "      <th></th>\n",
              "      <th></th>\n",
              "      <th></th>\n",
              "      <th></th>\n",
              "      <th></th>\n",
              "      <th></th>\n",
              "      <th></th>\n",
              "      <th></th>\n",
              "      <th></th>\n",
              "      <th></th>\n",
              "      <th></th>\n",
              "      <th></th>\n",
              "    </tr>\n",
              "  </thead>\n",
              "  <tbody>\n",
              "    <tr>\n",
              "      <th rowspan=\"5\" valign=\"top\">ADBE</th>\n",
              "      <th>2021-10-07 00:00:00+00:00</th>\n",
              "      <td>578.96</td>\n",
              "      <td>586.145</td>\n",
              "      <td>576.190</td>\n",
              "      <td>578.4600</td>\n",
              "      <td>2648546</td>\n",
              "      <td>578.96</td>\n",
              "      <td>586.145</td>\n",
              "      <td>576.190</td>\n",
              "      <td>578.4600</td>\n",
              "      <td>2648546</td>\n",
              "      <td>0.0</td>\n",
              "      <td>1.0</td>\n",
              "    </tr>\n",
              "    <tr>\n",
              "      <th>2021-10-08 00:00:00+00:00</th>\n",
              "      <td>576.86</td>\n",
              "      <td>583.610</td>\n",
              "      <td>575.520</td>\n",
              "      <td>581.3000</td>\n",
              "      <td>2051019</td>\n",
              "      <td>576.86</td>\n",
              "      <td>583.610</td>\n",
              "      <td>575.520</td>\n",
              "      <td>581.3000</td>\n",
              "      <td>2051019</td>\n",
              "      <td>0.0</td>\n",
              "      <td>1.0</td>\n",
              "    </tr>\n",
              "    <tr>\n",
              "      <th>2021-10-11 00:00:00+00:00</th>\n",
              "      <td>573.07</td>\n",
              "      <td>582.280</td>\n",
              "      <td>571.495</td>\n",
              "      <td>574.5000</td>\n",
              "      <td>1410612</td>\n",
              "      <td>573.07</td>\n",
              "      <td>582.280</td>\n",
              "      <td>571.495</td>\n",
              "      <td>574.5000</td>\n",
              "      <td>1410612</td>\n",
              "      <td>0.0</td>\n",
              "      <td>1.0</td>\n",
              "    </tr>\n",
              "    <tr>\n",
              "      <th>2021-10-12 00:00:00+00:00</th>\n",
              "      <td>580.69</td>\n",
              "      <td>584.220</td>\n",
              "      <td>574.420</td>\n",
              "      <td>579.1569</td>\n",
              "      <td>1740279</td>\n",
              "      <td>580.69</td>\n",
              "      <td>584.220</td>\n",
              "      <td>574.420</td>\n",
              "      <td>579.1569</td>\n",
              "      <td>1740279</td>\n",
              "      <td>0.0</td>\n",
              "      <td>1.0</td>\n",
              "    </tr>\n",
              "    <tr>\n",
              "      <th>2021-10-13 00:00:00+00:00</th>\n",
              "      <td>591.12</td>\n",
              "      <td>593.540</td>\n",
              "      <td>582.655</td>\n",
              "      <td>585.2600</td>\n",
              "      <td>2144405</td>\n",
              "      <td>591.12</td>\n",
              "      <td>593.540</td>\n",
              "      <td>582.655</td>\n",
              "      <td>585.2600</td>\n",
              "      <td>2144405</td>\n",
              "      <td>0.0</td>\n",
              "      <td>1.0</td>\n",
              "    </tr>\n",
              "  </tbody>\n",
              "</table>\n",
              "</div>"
            ],
            "text/plain": [
              "                                   close     high  ...  divCash  splitFactor\n",
              "symbol date                                        ...                      \n",
              "ADBE   2021-10-07 00:00:00+00:00  578.96  586.145  ...      0.0          1.0\n",
              "       2021-10-08 00:00:00+00:00  576.86  583.610  ...      0.0          1.0\n",
              "       2021-10-11 00:00:00+00:00  573.07  582.280  ...      0.0          1.0\n",
              "       2021-10-12 00:00:00+00:00  580.69  584.220  ...      0.0          1.0\n",
              "       2021-10-13 00:00:00+00:00  591.12  593.540  ...      0.0          1.0\n",
              "\n",
              "[5 rows x 12 columns]"
            ]
          },
          "metadata": {},
          "execution_count": 3
        }
      ]
    },
    {
      "cell_type": "code",
      "metadata": {
        "id": "gwBBnnmRhlks"
      },
      "source": [
        "df.to_csv('ADBE.csv')"
      ],
      "execution_count": 4,
      "outputs": []
    },
    {
      "cell_type": "code",
      "metadata": {
        "id": "xPP2SBGNiTzF"
      },
      "source": [
        "import pandas as pd"
      ],
      "execution_count": 5,
      "outputs": []
    },
    {
      "cell_type": "code",
      "metadata": {
        "id": "XdY-0BzFiYA1"
      },
      "source": [
        "df=pd.read_csv('ADBE.csv')"
      ],
      "execution_count": 6,
      "outputs": []
    },
    {
      "cell_type": "code",
      "metadata": {
        "colab": {
          "base_uri": "https://localhost:8080/",
          "height": 204
        },
        "id": "kwVqPLlTib88",
        "outputId": "2e65edad-bc31-4c79-a9b1-178eaafba557"
      },
      "source": [
        "df.head()"
      ],
      "execution_count": 7,
      "outputs": [
        {
          "output_type": "execute_result",
          "data": {
            "text/html": [
              "<div>\n",
              "<style scoped>\n",
              "    .dataframe tbody tr th:only-of-type {\n",
              "        vertical-align: middle;\n",
              "    }\n",
              "\n",
              "    .dataframe tbody tr th {\n",
              "        vertical-align: top;\n",
              "    }\n",
              "\n",
              "    .dataframe thead th {\n",
              "        text-align: right;\n",
              "    }\n",
              "</style>\n",
              "<table border=\"1\" class=\"dataframe\">\n",
              "  <thead>\n",
              "    <tr style=\"text-align: right;\">\n",
              "      <th></th>\n",
              "      <th>symbol</th>\n",
              "      <th>date</th>\n",
              "      <th>close</th>\n",
              "      <th>high</th>\n",
              "      <th>low</th>\n",
              "      <th>open</th>\n",
              "      <th>volume</th>\n",
              "      <th>adjClose</th>\n",
              "      <th>adjHigh</th>\n",
              "      <th>adjLow</th>\n",
              "      <th>adjOpen</th>\n",
              "      <th>adjVolume</th>\n",
              "      <th>divCash</th>\n",
              "      <th>splitFactor</th>\n",
              "    </tr>\n",
              "  </thead>\n",
              "  <tbody>\n",
              "    <tr>\n",
              "      <th>0</th>\n",
              "      <td>ADBE</td>\n",
              "      <td>2016-10-17 00:00:00+00:00</td>\n",
              "      <td>107.49</td>\n",
              "      <td>108.28</td>\n",
              "      <td>107.39</td>\n",
              "      <td>108.00</td>\n",
              "      <td>1136503</td>\n",
              "      <td>107.49</td>\n",
              "      <td>108.28</td>\n",
              "      <td>107.39</td>\n",
              "      <td>108.00</td>\n",
              "      <td>1136503</td>\n",
              "      <td>0.0</td>\n",
              "      <td>1.0</td>\n",
              "    </tr>\n",
              "    <tr>\n",
              "      <th>1</th>\n",
              "      <td>ADBE</td>\n",
              "      <td>2016-10-18 00:00:00+00:00</td>\n",
              "      <td>108.42</td>\n",
              "      <td>108.82</td>\n",
              "      <td>108.01</td>\n",
              "      <td>108.44</td>\n",
              "      <td>1318965</td>\n",
              "      <td>108.42</td>\n",
              "      <td>108.82</td>\n",
              "      <td>108.01</td>\n",
              "      <td>108.44</td>\n",
              "      <td>1318965</td>\n",
              "      <td>0.0</td>\n",
              "      <td>1.0</td>\n",
              "    </tr>\n",
              "    <tr>\n",
              "      <th>2</th>\n",
              "      <td>ADBE</td>\n",
              "      <td>2016-10-19 00:00:00+00:00</td>\n",
              "      <td>108.39</td>\n",
              "      <td>108.89</td>\n",
              "      <td>108.15</td>\n",
              "      <td>108.81</td>\n",
              "      <td>1282176</td>\n",
              "      <td>108.39</td>\n",
              "      <td>108.89</td>\n",
              "      <td>108.15</td>\n",
              "      <td>108.81</td>\n",
              "      <td>1282176</td>\n",
              "      <td>0.0</td>\n",
              "      <td>1.0</td>\n",
              "    </tr>\n",
              "    <tr>\n",
              "      <th>3</th>\n",
              "      <td>ADBE</td>\n",
              "      <td>2016-10-20 00:00:00+00:00</td>\n",
              "      <td>109.03</td>\n",
              "      <td>109.38</td>\n",
              "      <td>107.55</td>\n",
              "      <td>108.41</td>\n",
              "      <td>1820833</td>\n",
              "      <td>109.03</td>\n",
              "      <td>109.38</td>\n",
              "      <td>107.55</td>\n",
              "      <td>108.41</td>\n",
              "      <td>1820833</td>\n",
              "      <td>0.0</td>\n",
              "      <td>1.0</td>\n",
              "    </tr>\n",
              "    <tr>\n",
              "      <th>4</th>\n",
              "      <td>ADBE</td>\n",
              "      <td>2016-10-21 00:00:00+00:00</td>\n",
              "      <td>109.03</td>\n",
              "      <td>109.17</td>\n",
              "      <td>107.63</td>\n",
              "      <td>108.51</td>\n",
              "      <td>1838305</td>\n",
              "      <td>109.03</td>\n",
              "      <td>109.17</td>\n",
              "      <td>107.63</td>\n",
              "      <td>108.51</td>\n",
              "      <td>1838305</td>\n",
              "      <td>0.0</td>\n",
              "      <td>1.0</td>\n",
              "    </tr>\n",
              "  </tbody>\n",
              "</table>\n",
              "</div>"
            ],
            "text/plain": [
              "  symbol                       date   close  ...  adjVolume  divCash  splitFactor\n",
              "0   ADBE  2016-10-17 00:00:00+00:00  107.49  ...    1136503      0.0          1.0\n",
              "1   ADBE  2016-10-18 00:00:00+00:00  108.42  ...    1318965      0.0          1.0\n",
              "2   ADBE  2016-10-19 00:00:00+00:00  108.39  ...    1282176      0.0          1.0\n",
              "3   ADBE  2016-10-20 00:00:00+00:00  109.03  ...    1820833      0.0          1.0\n",
              "4   ADBE  2016-10-21 00:00:00+00:00  109.03  ...    1838305      0.0          1.0\n",
              "\n",
              "[5 rows x 14 columns]"
            ]
          },
          "metadata": {},
          "execution_count": 7
        }
      ]
    },
    {
      "cell_type": "code",
      "metadata": {
        "id": "WFyBynfqicq9"
      },
      "source": [
        "#reset the index and take out close column\n",
        "df1=df.reset_index()['close']"
      ],
      "execution_count": 8,
      "outputs": []
    },
    {
      "cell_type": "code",
      "metadata": {
        "colab": {
          "base_uri": "https://localhost:8080/"
        },
        "id": "DQa7ML3Pi-UU",
        "outputId": "68ff1ea0-1196-412d-df8a-69ad590b6665"
      },
      "source": [
        "df1.shape"
      ],
      "execution_count": 9,
      "outputs": [
        {
          "output_type": "execute_result",
          "data": {
            "text/plain": [
              "(1257,)"
            ]
          },
          "metadata": {},
          "execution_count": 9
        }
      ]
    },
    {
      "cell_type": "code",
      "metadata": {
        "colab": {
          "base_uri": "https://localhost:8080/",
          "height": 282
        },
        "id": "KLifp0CXi_Qw",
        "outputId": "bc558f08-7125-4d4f-9520-4089c2dac939"
      },
      "source": [
        "import matplotlib.pyplot as plt\n",
        "plt.plot(df1)"
      ],
      "execution_count": 10,
      "outputs": [
        {
          "output_type": "execute_result",
          "data": {
            "text/plain": [
              "[<matplotlib.lines.Line2D at 0x7f74aafdf9d0>]"
            ]
          },
          "metadata": {},
          "execution_count": 10
        },
        {
          "output_type": "display_data",
          "data": {
            "image/png": "[encoded data removed]",
            "text/plain": [
              "<Figure size 432x288 with 1 Axes>"
            ]
          },
          "metadata": {
            "needs_background": "light"
          }
        }
      ]
    },
    {
      "cell_type": "code",
      "metadata": {
        "id": "B0NmXqBljGek"
      },
      "source": [
        "import numpy as np\n",
        "from sklearn.preprocessing import MinMaxScaler\n",
        "scaler=MinMaxScaler(feature_range=(0,1))\n",
        "df1=scaler.fit_transform(np.array(df1).reshape(-1,1))"
      ],
      "execution_count": 11,
      "outputs": []
    },
    {
      "cell_type": "code",
      "metadata": {
        "colab": {
          "base_uri": "https://localhost:8080/"
        },
        "id": "TlDXrW1dkf5L",
        "outputId": "f807918f-009b-4d89-b586-e06cfcd88a4d"
      },
      "source": [
        "df1"
      ],
      "execution_count": 12,
      "outputs": [
        {
          "output_type": "execute_result",
          "data": {
            "text/plain": [
              "array([[0.01407209],\n",
              "       [0.01571207],\n",
              "       [0.01565917],\n",
              "       ...,\n",
              "       [0.835085  ],\n",
              "       [0.84852225],\n",
              "       [0.86691472]])"
            ]
          },
          "metadata": {},
          "execution_count": 12
        }
      ]
    },
    {
      "cell_type": "code",
      "metadata": {
        "colab": {
          "base_uri": "https://localhost:8080/"
        },
        "id": "ntTZhUchkjaq",
        "outputId": "7b4ff416-b8a7-4926-b681-bf1ee5f20b87"
      },
      "source": [
        "##splitting dataset into train and test split\n",
        "training_size=int(len(df1)*0.65)\n",
        "test_size=len(df1)-training_size\n",
        "training_size, test_size"
      ],
      "execution_count": 13,
      "outputs": [
        {
          "output_type": "execute_result",
          "data": {
            "text/plain": [
              "(817, 440)"
            ]
          },
          "metadata": {},
          "execution_count": 13
        }
      ]
    },
    {
      "cell_type": "code",
      "metadata": {
        "colab": {
          "base_uri": "https://localhost:8080/"
        },
        "id": "5iDcwtN7lVSQ",
        "outputId": "a6741713-a86a-454b-9dd8-8ec124391a1f"
      },
      "source": [
        "print(df1[0:training_size,:].shape)\n",
        "print(df1[training_size:len(df1),:1].shape)"
      ],
      "execution_count": 14,
      "outputs": [
        {
          "output_type": "stream",
          "name": "stdout",
          "text": [
            "(817, 1)\n",
            "(440, 1)\n"
          ]
        }
      ]
    },
    {
      "cell_type": "code",
      "metadata": {
        "id": "bHM0o2AmlKxg"
      },
      "source": [
        "\n",
        "##splitting dataset into train and test split\n",
        "train_data,test_data=df1[0:training_size,:],df1[training_size:len(df1),:1]"
      ],
      "execution_count": 15,
      "outputs": []
    },
    {
      "cell_type": "code",
      "metadata": {
        "colab": {
          "base_uri": "https://localhost:8080/"
        },
        "id": "LGHoDVCYpc6d",
        "outputId": "823c9aaf-04c1-4d94-b595-b5353239d17e"
      },
      "source": [
        "len(train_data)"
      ],
      "execution_count": 16,
      "outputs": [
        {
          "output_type": "execute_result",
          "data": {
            "text/plain": [
              "817"
            ]
          },
          "metadata": {},
          "execution_count": 16
        }
      ]
    },
    {
      "cell_type": "code",
      "metadata": {
        "id": "2QAhoU9Qm34F"
      },
      "source": [
        "import numpy\n",
        "# convert an array of values into a dataset matrix\n",
        "def create_dataset(dataset, time_step=1):\n",
        "\tdataX, dataY = [], []\n",
        "\tfor i in range(len(dataset)-time_step-1):\n",
        "\t\ta = dataset[i:(i+time_step), 0]   ###i=0, 0,1,2,3-----99   100 \n",
        "\t\tdataX.append(a)\n",
        "\t\tdataY.append(dataset[i + time_step, 0])\n",
        "\treturn numpy.array(dataX), numpy.array(dataY)"
      ],
      "execution_count": 17,
      "outputs": []
    },
    {
      "cell_type": "code",
      "metadata": {
        "id": "ootsB0RfpDQW"
      },
      "source": [
        "# reshape into X=t,t+1,t+2,t+3 and Y=t+4\n",
        "time_step = 100\n",
        "X_train, y_train = create_dataset(train_data, time_step)\n",
        "X_test, ytest = create_dataset(test_data, time_step)"
      ],
      "execution_count": 18,
      "outputs": []
    },
    {
      "cell_type": "code",
      "metadata": {
        "colab": {
          "base_uri": "https://localhost:8080/"
        },
        "id": "Da9N2VlPpEpD",
        "outputId": "3827aed7-16ae-4509-872f-2171b40be498"
      },
      "source": [
        "print(X_train.shape), print(y_train.shape)\n"
      ],
      "execution_count": 19,
      "outputs": [
        {
          "output_type": "stream",
          "name": "stdout",
          "text": [
            "(716, 100)\n",
            "(716,)\n"
          ]
        },
        {
          "output_type": "execute_result",
          "data": {
            "text/plain": [
              "(None, None)"
            ]
          },
          "metadata": {},
          "execution_count": 19
        }
      ]
    },
    {
      "cell_type": "code",
      "metadata": {
        "colab": {
          "base_uri": "https://localhost:8080/"
        },
        "id": "bZZu07JapHhh",
        "outputId": "b245dc34-706b-4473-a3ce-0b5072682ef2"
      },
      "source": [
        "print(X_test.shape), print(ytest.shape)\n"
      ],
      "execution_count": 20,
      "outputs": [
        {
          "output_type": "stream",
          "name": "stdout",
          "text": [
            "(339, 100)\n",
            "(339,)\n"
          ]
        },
        {
          "output_type": "execute_result",
          "data": {
            "text/plain": [
              "(None, None)"
            ]
          },
          "metadata": {},
          "execution_count": 20
        }
      ]
    },
    {
      "cell_type": "code",
      "metadata": {
        "id": "S4KDufW3spsv"
      },
      "source": [
        "# reshape input to be [samples, time steps, features] which is required for LSTM\n",
        "X_train =X_train.reshape(X_train.shape[0],X_train.shape[1] , 1)\n",
        "X_test = X_test.reshape(X_test.shape[0],X_test.shape[1] , 1)"
      ],
      "execution_count": 21,
      "outputs": []
    },
    {
      "cell_type": "code",
      "metadata": {
        "id": "cFsBeTWD0DYI"
      },
      "source": [
        "\n",
        "### Create the Stacked LSTM model\n",
        "from tensorflow.keras.models import Sequential\n",
        "from tensorflow.keras.layers import Dense\n",
        "from tensorflow.keras.layers import LSTM"
      ],
      "execution_count": 22,
      "outputs": []
    },
    {
      "cell_type": "code",
      "metadata": {
        "id": "XjQ_Q5aO0FSP"
      },
      "source": [
        "model=Sequential()\n",
        "model.add(LSTM(50,return_sequences=True,input_shape=(100,1)))\n",
        "model.add(LSTM(50,return_sequences=True))\n",
        "model.add(LSTM(50))\n",
        "model.add(Dense(1))\n",
        "model.compile(loss='mean_squared_error',optimizer='adam')\n"
      ],
      "execution_count": 23,
      "outputs": []
    },
    {
      "cell_type": "code",
      "metadata": {
        "colab": {
          "base_uri": "https://localhost:8080/"
        },
        "id": "NzOxl0c70Hby",
        "outputId": "73df2e44-ce89-4ff5-9926-cb2a952a4b37"
      },
      "source": [
        "model.summary()"
      ],
      "execution_count": 24,
      "outputs": [
        {
          "output_type": "stream",
          "name": "stdout",
          "text": [
            "Model: \"sequential\"\n",
            "_________________________________________________________________\n",
            "Layer (type)                 Output Shape              Param #   \n",
            "=================================================================\n",
            "lstm (LSTM)                  (None, 100, 50)           10400     \n",
            "_________________________________________________________________\n",
            "lstm_1 (LSTM)                (None, 100, 50)           20200     \n",
            "_________________________________________________________________\n",
            "lstm_2 (LSTM)                (None, 50)                20200     \n",
            "_________________________________________________________________\n",
            "dense (Dense)                (None, 1)                 51        \n",
            "=================================================================\n",
            "Total params: 50,851\n",
            "Trainable params: 50,851\n",
            "Non-trainable params: 0\n",
            "_________________________________________________________________\n"
          ]
        }
      ]
    },
    {
      "cell_type": "code",
      "metadata": {
        "colab": {
          "base_uri": "https://localhost:8080/"
        },
        "id": "7KWZg2EM0VVP",
        "outputId": "930d7739-2d13-49e0-c6c2-3bf04b2eedf4"
      },
      "source": [
        "#Fit the model \n",
        "model.fit(X_train,y_train,validation_data=(X_test,ytest),epochs=100,batch_size=64,verbose=1)"
      ],
      "execution_count": 26,
      "outputs": [
        {
          "output_type": "stream",
          "name": "stdout",
          "text": [
            "Epoch 1/100\n",
            "12/12 [==============================] - 8s 308ms/step - loss: 0.0129 - val_loss: 0.1007\n",
            "Epoch 2/100\n",
            "12/12 [==============================] - 2s 195ms/step - loss: 0.0028 - val_loss: 0.0227\n",
            "Epoch 3/100\n",
            "12/12 [==============================] - 2s 193ms/step - loss: 0.0011 - val_loss: 0.0072\n",
            "Epoch 4/100\n",
            "12/12 [==============================] - 2s 194ms/step - loss: 5.5242e-04 - val_loss: 0.0038\n",
            "Epoch 5/100\n",
            "12/12 [==============================] - 2s 196ms/step - loss: 3.7504e-04 - val_loss: 0.0042\n",
            "Epoch 6/100\n",
            "12/12 [==============================] - 2s 194ms/step - loss: 2.9279e-04 - val_loss: 0.0044\n",
            "Epoch 7/100\n",
            "12/12 [==============================] - 2s 191ms/step - loss: 2.8391e-04 - val_loss: 0.0053\n",
            "Epoch 8/100\n",
            "12/12 [==============================] - 2s 193ms/step - loss: 2.9176e-04 - val_loss: 0.0050\n",
            "Epoch 9/100\n",
            "12/12 [==============================] - 2s 194ms/step - loss: 2.9204e-04 - val_loss: 0.0047\n",
            "Epoch 10/100\n",
            "12/12 [==============================] - 2s 193ms/step - loss: 2.7873e-04 - val_loss: 0.0042\n",
            "Epoch 11/100\n",
            "12/12 [==============================] - 2s 192ms/step - loss: 2.7750e-04 - val_loss: 0.0039\n",
            "Epoch 12/100\n",
            "12/12 [==============================] - 2s 192ms/step - loss: 2.7413e-04 - val_loss: 0.0043\n",
            "Epoch 13/100\n",
            "12/12 [==============================] - 2s 191ms/step - loss: 2.9085e-04 - val_loss: 0.0035\n",
            "Epoch 14/100\n",
            "12/12 [==============================] - 2s 192ms/step - loss: 2.6854e-04 - val_loss: 0.0029\n",
            "Epoch 15/100\n",
            "12/12 [==============================] - 2s 193ms/step - loss: 2.7349e-04 - val_loss: 0.0041\n",
            "Epoch 16/100\n",
            "12/12 [==============================] - 2s 194ms/step - loss: 2.8132e-04 - val_loss: 0.0039\n",
            "Epoch 17/100\n",
            "12/12 [==============================] - 2s 196ms/step - loss: 2.7419e-04 - val_loss: 0.0026\n",
            "Epoch 18/100\n",
            "12/12 [==============================] - 2s 193ms/step - loss: 2.6159e-04 - val_loss: 0.0037\n",
            "Epoch 19/100\n",
            "12/12 [==============================] - 2s 197ms/step - loss: 2.8497e-04 - val_loss: 0.0028\n",
            "Epoch 20/100\n",
            "12/12 [==============================] - 2s 192ms/step - loss: 2.5482e-04 - val_loss: 0.0019\n",
            "Epoch 21/100\n",
            "12/12 [==============================] - 2s 195ms/step - loss: 2.8105e-04 - val_loss: 0.0022\n",
            "Epoch 22/100\n",
            "12/12 [==============================] - 2s 195ms/step - loss: 2.5875e-04 - val_loss: 0.0019\n",
            "Epoch 23/100\n",
            "12/12 [==============================] - 2s 195ms/step - loss: 3.0582e-04 - val_loss: 0.0028\n",
            "Epoch 24/100\n",
            "12/12 [==============================] - 2s 193ms/step - loss: 2.9978e-04 - val_loss: 0.0022\n",
            "Epoch 25/100\n",
            "12/12 [==============================] - 2s 193ms/step - loss: 2.5020e-04 - val_loss: 0.0018\n",
            "Epoch 26/100\n",
            "12/12 [==============================] - 2s 191ms/step - loss: 2.4066e-04 - val_loss: 0.0021\n",
            "Epoch 27/100\n",
            "12/12 [==============================] - 2s 196ms/step - loss: 2.5220e-04 - val_loss: 0.0017\n",
            "Epoch 28/100\n",
            "12/12 [==============================] - 2s 193ms/step - loss: 2.6178e-04 - val_loss: 0.0031\n",
            "Epoch 29/100\n",
            "12/12 [==============================] - 2s 193ms/step - loss: 2.6543e-04 - val_loss: 0.0017\n",
            "Epoch 30/100\n",
            "12/12 [==============================] - 2s 193ms/step - loss: 2.2755e-04 - val_loss: 0.0023\n",
            "Epoch 31/100\n",
            "12/12 [==============================] - 2s 192ms/step - loss: 2.2077e-04 - val_loss: 0.0020\n",
            "Epoch 32/100\n",
            "12/12 [==============================] - 2s 193ms/step - loss: 2.2811e-04 - val_loss: 0.0015\n",
            "Epoch 33/100\n",
            "12/12 [==============================] - 2s 194ms/step - loss: 2.4155e-04 - val_loss: 0.0023\n",
            "Epoch 34/100\n",
            "12/12 [==============================] - 2s 195ms/step - loss: 2.2006e-04 - val_loss: 0.0021\n",
            "Epoch 35/100\n",
            "12/12 [==============================] - 2s 195ms/step - loss: 2.0425e-04 - val_loss: 0.0014\n",
            "Epoch 36/100\n",
            "12/12 [==============================] - 2s 194ms/step - loss: 2.1516e-04 - val_loss: 0.0021\n",
            "Epoch 37/100\n",
            "12/12 [==============================] - 2s 193ms/step - loss: 2.0358e-04 - val_loss: 0.0023\n",
            "Epoch 38/100\n",
            "12/12 [==============================] - 2s 201ms/step - loss: 2.0159e-04 - val_loss: 0.0030\n",
            "Epoch 39/100\n",
            "12/12 [==============================] - 2s 197ms/step - loss: 2.2953e-04 - val_loss: 0.0023\n",
            "Epoch 40/100\n",
            "12/12 [==============================] - 2s 194ms/step - loss: 2.0857e-04 - val_loss: 0.0014\n",
            "Epoch 41/100\n",
            "12/12 [==============================] - 2s 194ms/step - loss: 2.3979e-04 - val_loss: 0.0057\n",
            "Epoch 42/100\n",
            "12/12 [==============================] - 2s 195ms/step - loss: 2.4733e-04 - val_loss: 0.0028\n",
            "Epoch 43/100\n",
            "12/12 [==============================] - 2s 196ms/step - loss: 2.1689e-04 - val_loss: 0.0014\n",
            "Epoch 44/100\n",
            "12/12 [==============================] - 2s 195ms/step - loss: 2.0546e-04 - val_loss: 0.0020\n",
            "Epoch 45/100\n",
            "12/12 [==============================] - 2s 197ms/step - loss: 1.8733e-04 - val_loss: 0.0018\n",
            "Epoch 46/100\n",
            "12/12 [==============================] - 2s 193ms/step - loss: 1.9833e-04 - val_loss: 0.0015\n",
            "Epoch 47/100\n",
            "12/12 [==============================] - 2s 193ms/step - loss: 2.6579e-04 - val_loss: 0.0071\n",
            "Epoch 48/100\n",
            "12/12 [==============================] - 2s 197ms/step - loss: 2.6675e-04 - val_loss: 0.0018\n",
            "Epoch 49/100\n",
            "12/12 [==============================] - 2s 196ms/step - loss: 2.5633e-04 - val_loss: 0.0013\n",
            "Epoch 50/100\n",
            "12/12 [==============================] - 2s 195ms/step - loss: 2.3052e-04 - val_loss: 0.0033\n",
            "Epoch 51/100\n",
            "12/12 [==============================] - 2s 193ms/step - loss: 2.2728e-04 - val_loss: 0.0012\n",
            "Epoch 52/100\n",
            "12/12 [==============================] - 2s 192ms/step - loss: 1.9903e-04 - val_loss: 0.0030\n",
            "Epoch 53/100\n",
            "12/12 [==============================] - 2s 194ms/step - loss: 1.9126e-04 - val_loss: 0.0012\n",
            "Epoch 54/100\n",
            "12/12 [==============================] - 2s 196ms/step - loss: 2.0441e-04 - val_loss: 0.0037\n",
            "Epoch 55/100\n",
            "12/12 [==============================] - 2s 196ms/step - loss: 1.8217e-04 - val_loss: 0.0018\n",
            "Epoch 56/100\n",
            "12/12 [==============================] - 2s 196ms/step - loss: 1.7205e-04 - val_loss: 0.0039\n",
            "Epoch 57/100\n",
            "12/12 [==============================] - 2s 193ms/step - loss: 1.8472e-04 - val_loss: 0.0014\n",
            "Epoch 58/100\n",
            "12/12 [==============================] - 2s 194ms/step - loss: 1.7496e-04 - val_loss: 0.0020\n",
            "Epoch 59/100\n",
            "12/12 [==============================] - 2s 195ms/step - loss: 1.6894e-04 - val_loss: 0.0038\n",
            "Epoch 60/100\n",
            "12/12 [==============================] - 2s 196ms/step - loss: 1.9761e-04 - val_loss: 0.0026\n",
            "Epoch 61/100\n",
            "12/12 [==============================] - 2s 195ms/step - loss: 1.7475e-04 - val_loss: 0.0022\n",
            "Epoch 62/100\n",
            "12/12 [==============================] - 2s 195ms/step - loss: 1.7742e-04 - val_loss: 0.0031\n",
            "Epoch 63/100\n",
            "12/12 [==============================] - 2s 194ms/step - loss: 1.7563e-04 - val_loss: 0.0019\n",
            "Epoch 64/100\n",
            "12/12 [==============================] - 2s 197ms/step - loss: 1.9937e-04 - val_loss: 0.0015\n",
            "Epoch 65/100\n",
            "12/12 [==============================] - 2s 193ms/step - loss: 1.8439e-04 - val_loss: 0.0033\n",
            "Epoch 66/100\n",
            "12/12 [==============================] - 2s 195ms/step - loss: 1.8022e-04 - val_loss: 0.0017\n",
            "Epoch 67/100\n",
            "12/12 [==============================] - 2s 195ms/step - loss: 1.6668e-04 - val_loss: 0.0014\n",
            "Epoch 68/100\n",
            "12/12 [==============================] - 2s 194ms/step - loss: 1.6812e-04 - val_loss: 0.0017\n",
            "Epoch 69/100\n",
            "12/12 [==============================] - 2s 196ms/step - loss: 1.6056e-04 - val_loss: 0.0014\n",
            "Epoch 70/100\n",
            "12/12 [==============================] - 2s 194ms/step - loss: 1.5702e-04 - val_loss: 0.0022\n",
            "Epoch 71/100\n",
            "12/12 [==============================] - 2s 197ms/step - loss: 1.6615e-04 - val_loss: 0.0025\n",
            "Epoch 72/100\n",
            "12/12 [==============================] - 2s 198ms/step - loss: 1.7388e-04 - val_loss: 0.0017\n",
            "Epoch 73/100\n",
            "12/12 [==============================] - 2s 195ms/step - loss: 1.6154e-04 - val_loss: 0.0010\n",
            "Epoch 74/100\n",
            "12/12 [==============================] - 2s 195ms/step - loss: 1.6234e-04 - val_loss: 0.0021\n",
            "Epoch 75/100\n",
            "12/12 [==============================] - 2s 194ms/step - loss: 1.5922e-04 - val_loss: 0.0019\n",
            "Epoch 76/100\n",
            "12/12 [==============================] - 2s 195ms/step - loss: 1.5593e-04 - val_loss: 0.0010\n",
            "Epoch 77/100\n",
            "12/12 [==============================] - 2s 196ms/step - loss: 1.6268e-04 - val_loss: 0.0014\n",
            "Epoch 78/100\n",
            "12/12 [==============================] - 2s 195ms/step - loss: 1.6050e-04 - val_loss: 0.0017\n",
            "Epoch 79/100\n",
            "12/12 [==============================] - 2s 196ms/step - loss: 1.5104e-04 - val_loss: 9.7538e-04\n",
            "Epoch 80/100\n",
            "12/12 [==============================] - 2s 193ms/step - loss: 1.5686e-04 - val_loss: 9.9067e-04\n",
            "Epoch 81/100\n",
            "12/12 [==============================] - 2s 196ms/step - loss: 1.5212e-04 - val_loss: 0.0011\n",
            "Epoch 82/100\n",
            "12/12 [==============================] - 2s 197ms/step - loss: 1.6459e-04 - val_loss: 9.8827e-04\n",
            "Epoch 83/100\n",
            "12/12 [==============================] - 2s 194ms/step - loss: 1.4379e-04 - val_loss: 9.5956e-04\n",
            "Epoch 84/100\n",
            "12/12 [==============================] - 2s 195ms/step - loss: 1.4532e-04 - val_loss: 0.0011\n",
            "Epoch 85/100\n",
            "12/12 [==============================] - 2s 195ms/step - loss: 1.7748e-04 - val_loss: 0.0020\n",
            "Epoch 86/100\n",
            "12/12 [==============================] - 2s 195ms/step - loss: 1.7025e-04 - val_loss: 0.0013\n",
            "Epoch 87/100\n",
            "12/12 [==============================] - 2s 194ms/step - loss: 1.7295e-04 - val_loss: 9.0436e-04\n",
            "Epoch 88/100\n",
            "12/12 [==============================] - 2s 194ms/step - loss: 1.4490e-04 - val_loss: 8.9483e-04\n",
            "Epoch 89/100\n",
            "12/12 [==============================] - 2s 197ms/step - loss: 1.4761e-04 - val_loss: 9.6769e-04\n",
            "Epoch 90/100\n",
            "12/12 [==============================] - 2s 195ms/step - loss: 1.5166e-04 - val_loss: 9.6553e-04\n",
            "Epoch 91/100\n",
            "12/12 [==============================] - 2s 194ms/step - loss: 1.5617e-04 - val_loss: 0.0011\n",
            "Epoch 92/100\n",
            "12/12 [==============================] - 2s 196ms/step - loss: 1.5107e-04 - val_loss: 0.0010\n",
            "Epoch 93/100\n",
            "12/12 [==============================] - 2s 195ms/step - loss: 1.5272e-04 - val_loss: 0.0015\n",
            "Epoch 94/100\n",
            "12/12 [==============================] - 2s 197ms/step - loss: 1.6235e-04 - val_loss: 0.0012\n",
            "Epoch 95/100\n",
            "12/12 [==============================] - 2s 197ms/step - loss: 1.5552e-04 - val_loss: 0.0010\n",
            "Epoch 96/100\n",
            "12/12 [==============================] - 2s 197ms/step - loss: 1.3631e-04 - val_loss: 0.0012\n",
            "Epoch 97/100\n",
            "12/12 [==============================] - 2s 195ms/step - loss: 1.4469e-04 - val_loss: 9.1703e-04\n",
            "Epoch 98/100\n",
            "12/12 [==============================] - 2s 194ms/step - loss: 1.5399e-04 - val_loss: 9.3692e-04\n",
            "Epoch 99/100\n",
            "12/12 [==============================] - 2s 197ms/step - loss: 1.4876e-04 - val_loss: 8.9391e-04\n",
            "Epoch 100/100\n",
            "12/12 [==============================] - 2s 195ms/step - loss: 1.5576e-04 - val_loss: 0.0016\n"
          ]
        },
        {
          "output_type": "execute_result",
          "data": {
            "text/plain": [
              "<keras.callbacks.History at 0x7f744a51fe50>"
            ]
          },
          "metadata": {},
          "execution_count": 26
        }
      ]
    },
    {
      "cell_type": "code",
      "metadata": {
        "id": "914EtD1pS2Xw"
      },
      "source": [
        "### Lets Do the prediction and check performance metrics\n",
        "train_predict=model.predict(X_train)\n",
        "test_predict=model.predict(X_test)"
      ],
      "execution_count": 27,
      "outputs": []
    },
    {
      "cell_type": "code",
      "metadata": {
        "id": "KgLgDEi2UIuZ"
      },
      "source": [
        "##Transformback to original form\n",
        "train_predict=scaler.inverse_transform(train_predict)\n",
        "test_predict=scaler.inverse_transform(test_predict)"
      ],
      "execution_count": 28,
      "outputs": []
    },
    {
      "cell_type": "code",
      "metadata": {
        "colab": {
          "base_uri": "https://localhost:8080/"
        },
        "id": "XM30oiTHULTy",
        "outputId": "5c950cc2-d6bd-4085-f38b-3a0f93a40434"
      },
      "source": [
        "### Calculate RMSE performance metrics\n",
        "import math\n",
        "from sklearn.metrics import mean_squared_error\n",
        "math.sqrt(mean_squared_error(y_train,train_predict))"
      ],
      "execution_count": 29,
      "outputs": [
        {
          "output_type": "execute_result",
          "data": {
            "text/plain": [
              "237.64447502759378"
            ]
          },
          "metadata": {},
          "execution_count": 29
        }
      ]
    },
    {
      "cell_type": "code",
      "metadata": {
        "colab": {
          "base_uri": "https://localhost:8080/"
        },
        "id": "CMWMY0D9UOsQ",
        "outputId": "72b43187-6837-4ee5-93c4-0ba02e4ae4b1"
      },
      "source": [
        "math.sqrt(mean_squared_error(ytest,test_predict))\n"
      ],
      "execution_count": 30,
      "outputs": [
        {
          "output_type": "execute_result",
          "data": {
            "text/plain": [
              "528.6552025046328"
            ]
          },
          "metadata": {},
          "execution_count": 30
        }
      ]
    },
    {
      "cell_type": "code",
      "metadata": {
        "colab": {
          "base_uri": "https://localhost:8080/",
          "height": 265
        },
        "id": "DgmmuOLVUR7q",
        "outputId": "e32f2a18-f012-477c-8cfa-e155013d9e3b"
      },
      "source": [
        "### Plotting \n",
        "# shift train predictions for plotting\n",
        "look_back=100\n",
        "trainPredictPlot = numpy.empty_like(df1)\n",
        "trainPredictPlot[:, :] = np.nan\n",
        "trainPredictPlot[look_back:len(train_predict)+look_back, :] = train_predict\n",
        "# shift test predictions for plotting\n",
        "testPredictPlot = numpy.empty_like(df1)\n",
        "testPredictPlot[:, :] = numpy.nan\n",
        "testPredictPlot[len(train_predict)+(look_back*2)+1:len(df1)-1, :] = test_predict\n",
        "# plot baseline and predictions\n",
        "plt.plot(scaler.inverse_transform(df1))\n",
        "plt.plot(trainPredictPlot)\n",
        "plt.plot(testPredictPlot)\n",
        "plt.show()"
      ],
      "execution_count": 31,
      "outputs": [
        {
          "output_type": "display_data",
          "data": {
            "image/png": "[encoded data removed]",
            "text/plain": [
              "<Figure size 432x288 with 1 Axes>"
            ]
          },
          "metadata": {
            "needs_background": "light"
          }
        }
      ]
    },
    {
      "cell_type": "code",
      "metadata": {
        "id": "gr9O7A-SV44g"
      },
      "source": [
        ""
      ],
      "execution_count": null,
      "outputs": []
    }
  ]
}