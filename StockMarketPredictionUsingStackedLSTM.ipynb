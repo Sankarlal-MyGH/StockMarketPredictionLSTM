{
  "nbformat": 4,
  "nbformat_minor": 0,
  "metadata": {
    "colab": {
      "name": "StockMarketPredictionUsingStackedLSTM.ipynb",
      "provenance": [],
      "collapsed_sections": [],
      "authorship_tag": "ABX9TyMmRDUQsDkH6x/OvCkU1ogi",
      "include_colab_link": true
    },
    "kernelspec": {
      "name": "python3",
      "display_name": "Python 3"
    },
    "language_info": {
      "name": "python"
    }
  },
  "cells": [
    {
      "cell_type": "markdown",
      "metadata": {
        "id": "view-in-github",
        "colab_type": "text"
      },
      "source": [
        "<a href=\"https://colab.research.google.com/github/Sankarlal-MyGH/StockMarketPredictionLSTM/blob/main/StockMarketPredictionUsingStackedLSTM.ipynb\" target=\"_parent\"><img src=\"https://colab.research.google.com/assets/colab-badge.svg\" alt=\"Open In Colab\"/></a>"
      ]
    },
    {
      "cell_type": "code",
      "metadata": {
        "id": "HMOHUzfxfosl"
      },
      "source": [
        "#Import the libraries\n",
        "### Data Collection\n",
        "import pandas_datareader as pdr\n",
        "key=\"ab4381851842b240cfca5c57f6d3d7cfb4db281c\""
      ],
      "execution_count": 3,
      "outputs": []
    },
    {
      "cell_type": "code",
      "metadata": {
        "id": "tEN3gcJbgNb7"
      },
      "source": [
        "df = pdr.get_data_tiingo('ADBE', api_key=key)\n"
      ],
      "execution_count": 20,
      "outputs": []
    },
    {
      "cell_type": "code",
      "metadata": {
        "colab": {
          "base_uri": "https://localhost:8080/",
          "height": 235
        },
        "id": "jXNxu6YJgSpk",
        "outputId": "5b53568a-1c62-41f9-b48e-9ce8d39124d7"
      },
      "source": [
        "df.tail()"
      ],
      "execution_count": 21,
      "outputs": [
        {
          "output_type": "execute_result",
          "data": {
            "text/html": [
              "<div>\n",
              "<style scoped>\n",
              "    .dataframe tbody tr th:only-of-type {\n",
              "        vertical-align: middle;\n",
              "    }\n",
              "\n",
              "    .dataframe tbody tr th {\n",
              "        vertical-align: top;\n",
              "    }\n",
              "\n",
              "    .dataframe thead th {\n",
              "        text-align: right;\n",
              "    }\n",
              "</style>\n",
              "<table border=\"1\" class=\"dataframe\">\n",
              "  <thead>\n",
              "    <tr style=\"text-align: right;\">\n",
              "      <th></th>\n",
              "      <th></th>\n",
              "      <th>close</th>\n",
              "      <th>high</th>\n",
              "      <th>low</th>\n",
              "      <th>open</th>\n",
              "      <th>volume</th>\n",
              "      <th>adjClose</th>\n",
              "      <th>adjHigh</th>\n",
              "      <th>adjLow</th>\n",
              "      <th>adjOpen</th>\n",
              "      <th>adjVolume</th>\n",
              "      <th>divCash</th>\n",
              "      <th>splitFactor</th>\n",
              "    </tr>\n",
              "    <tr>\n",
              "      <th>symbol</th>\n",
              "      <th>date</th>\n",
              "      <th></th>\n",
              "      <th></th>\n",
              "      <th></th>\n",
              "      <th></th>\n",
              "      <th></th>\n",
              "      <th></th>\n",
              "      <th></th>\n",
              "      <th></th>\n",
              "      <th></th>\n",
              "      <th></th>\n",
              "      <th></th>\n",
              "      <th></th>\n",
              "    </tr>\n",
              "  </thead>\n",
              "  <tbody>\n",
              "    <tr>\n",
              "      <th rowspan=\"5\" valign=\"top\">ADBE</th>\n",
              "      <th>2021-10-06 00:00:00+00:00</th>\n",
              "      <td>570.31</td>\n",
              "      <td>572.155</td>\n",
              "      <td>560.210</td>\n",
              "      <td>561.2400</td>\n",
              "      <td>2043151</td>\n",
              "      <td>570.31</td>\n",
              "      <td>572.155</td>\n",
              "      <td>560.210</td>\n",
              "      <td>561.2400</td>\n",
              "      <td>2043151</td>\n",
              "      <td>0.0</td>\n",
              "      <td>1.0</td>\n",
              "    </tr>\n",
              "    <tr>\n",
              "      <th>2021-10-07 00:00:00+00:00</th>\n",
              "      <td>578.96</td>\n",
              "      <td>586.145</td>\n",
              "      <td>576.190</td>\n",
              "      <td>578.4600</td>\n",
              "      <td>2648546</td>\n",
              "      <td>578.96</td>\n",
              "      <td>586.145</td>\n",
              "      <td>576.190</td>\n",
              "      <td>578.4600</td>\n",
              "      <td>2648546</td>\n",
              "      <td>0.0</td>\n",
              "      <td>1.0</td>\n",
              "    </tr>\n",
              "    <tr>\n",
              "      <th>2021-10-08 00:00:00+00:00</th>\n",
              "      <td>576.86</td>\n",
              "      <td>583.610</td>\n",
              "      <td>575.520</td>\n",
              "      <td>581.3000</td>\n",
              "      <td>2051019</td>\n",
              "      <td>576.86</td>\n",
              "      <td>583.610</td>\n",
              "      <td>575.520</td>\n",
              "      <td>581.3000</td>\n",
              "      <td>2051019</td>\n",
              "      <td>0.0</td>\n",
              "      <td>1.0</td>\n",
              "    </tr>\n",
              "    <tr>\n",
              "      <th>2021-10-11 00:00:00+00:00</th>\n",
              "      <td>573.07</td>\n",
              "      <td>582.280</td>\n",
              "      <td>571.495</td>\n",
              "      <td>574.5000</td>\n",
              "      <td>1410612</td>\n",
              "      <td>573.07</td>\n",
              "      <td>582.280</td>\n",
              "      <td>571.495</td>\n",
              "      <td>574.5000</td>\n",
              "      <td>1410612</td>\n",
              "      <td>0.0</td>\n",
              "      <td>1.0</td>\n",
              "    </tr>\n",
              "    <tr>\n",
              "      <th>2021-10-12 00:00:00+00:00</th>\n",
              "      <td>580.69</td>\n",
              "      <td>584.220</td>\n",
              "      <td>574.420</td>\n",
              "      <td>579.1569</td>\n",
              "      <td>1739373</td>\n",
              "      <td>580.69</td>\n",
              "      <td>584.220</td>\n",
              "      <td>574.420</td>\n",
              "      <td>579.1569</td>\n",
              "      <td>1739373</td>\n",
              "      <td>0.0</td>\n",
              "      <td>1.0</td>\n",
              "    </tr>\n",
              "  </tbody>\n",
              "</table>\n",
              "</div>"
            ],
            "text/plain": [
              "                                   close     high  ...  divCash  splitFactor\n",
              "symbol date                                        ...                      \n",
              "ADBE   2021-10-06 00:00:00+00:00  570.31  572.155  ...      0.0          1.0\n",
              "       2021-10-07 00:00:00+00:00  578.96  586.145  ...      0.0          1.0\n",
              "       2021-10-08 00:00:00+00:00  576.86  583.610  ...      0.0          1.0\n",
              "       2021-10-11 00:00:00+00:00  573.07  582.280  ...      0.0          1.0\n",
              "       2021-10-12 00:00:00+00:00  580.69  584.220  ...      0.0          1.0\n",
              "\n",
              "[5 rows x 12 columns]"
            ]
          },
          "metadata": {},
          "execution_count": 21
        }
      ]
    },
    {
      "cell_type": "code",
      "metadata": {
        "id": "gwBBnnmRhlks"
      },
      "source": [
        "df.to_csv('ADBE.csv')"
      ],
      "execution_count": 22,
      "outputs": []
    },
    {
      "cell_type": "code",
      "metadata": {
        "id": "xPP2SBGNiTzF"
      },
      "source": [
        "import pandas as pd"
      ],
      "execution_count": 23,
      "outputs": []
    },
    {
      "cell_type": "code",
      "metadata": {
        "id": "XdY-0BzFiYA1"
      },
      "source": [
        "df=pd.read_csv('ADBE.csv')"
      ],
      "execution_count": 56,
      "outputs": []
    },
    {
      "cell_type": "code",
      "metadata": {
        "colab": {
          "base_uri": "https://localhost:8080/",
          "height": 204
        },
        "id": "kwVqPLlTib88",
        "outputId": "07e34a3d-099b-4222-a486-12049b743b20"
      },
      "source": [
        "df.head()"
      ],
      "execution_count": 57,
      "outputs": [
        {
          "output_type": "execute_result",
          "data": {
            "text/html": [
              "<div>\n",
              "<style scoped>\n",
              "    .dataframe tbody tr th:only-of-type {\n",
              "        vertical-align: middle;\n",
              "    }\n",
              "\n",
              "    .dataframe tbody tr th {\n",
              "        vertical-align: top;\n",
              "    }\n",
              "\n",
              "    .dataframe thead th {\n",
              "        text-align: right;\n",
              "    }\n",
              "</style>\n",
              "<table border=\"1\" class=\"dataframe\">\n",
              "  <thead>\n",
              "    <tr style=\"text-align: right;\">\n",
              "      <th></th>\n",
              "      <th>symbol</th>\n",
              "      <th>date</th>\n",
              "      <th>close</th>\n",
              "      <th>high</th>\n",
              "      <th>low</th>\n",
              "      <th>open</th>\n",
              "      <th>volume</th>\n",
              "      <th>adjClose</th>\n",
              "      <th>adjHigh</th>\n",
              "      <th>adjLow</th>\n",
              "      <th>adjOpen</th>\n",
              "      <th>adjVolume</th>\n",
              "      <th>divCash</th>\n",
              "      <th>splitFactor</th>\n",
              "    </tr>\n",
              "  </thead>\n",
              "  <tbody>\n",
              "    <tr>\n",
              "      <th>0</th>\n",
              "      <td>ADBE</td>\n",
              "      <td>2016-10-13 00:00:00+00:00</td>\n",
              "      <td>108.01</td>\n",
              "      <td>108.1269</td>\n",
              "      <td>106.53</td>\n",
              "      <td>107.13</td>\n",
              "      <td>1588510</td>\n",
              "      <td>108.01</td>\n",
              "      <td>108.1269</td>\n",
              "      <td>106.53</td>\n",
              "      <td>107.13</td>\n",
              "      <td>1588510</td>\n",
              "      <td>0.0</td>\n",
              "      <td>1.0</td>\n",
              "    </tr>\n",
              "    <tr>\n",
              "      <th>1</th>\n",
              "      <td>ADBE</td>\n",
              "      <td>2016-10-14 00:00:00+00:00</td>\n",
              "      <td>107.84</td>\n",
              "      <td>109.1000</td>\n",
              "      <td>107.82</td>\n",
              "      <td>108.19</td>\n",
              "      <td>1968363</td>\n",
              "      <td>107.84</td>\n",
              "      <td>109.1000</td>\n",
              "      <td>107.82</td>\n",
              "      <td>108.19</td>\n",
              "      <td>1968363</td>\n",
              "      <td>0.0</td>\n",
              "      <td>1.0</td>\n",
              "    </tr>\n",
              "    <tr>\n",
              "      <th>2</th>\n",
              "      <td>ADBE</td>\n",
              "      <td>2016-10-17 00:00:00+00:00</td>\n",
              "      <td>107.49</td>\n",
              "      <td>108.2800</td>\n",
              "      <td>107.39</td>\n",
              "      <td>108.00</td>\n",
              "      <td>1136503</td>\n",
              "      <td>107.49</td>\n",
              "      <td>108.2800</td>\n",
              "      <td>107.39</td>\n",
              "      <td>108.00</td>\n",
              "      <td>1136503</td>\n",
              "      <td>0.0</td>\n",
              "      <td>1.0</td>\n",
              "    </tr>\n",
              "    <tr>\n",
              "      <th>3</th>\n",
              "      <td>ADBE</td>\n",
              "      <td>2016-10-18 00:00:00+00:00</td>\n",
              "      <td>108.42</td>\n",
              "      <td>108.8200</td>\n",
              "      <td>108.01</td>\n",
              "      <td>108.44</td>\n",
              "      <td>1318965</td>\n",
              "      <td>108.42</td>\n",
              "      <td>108.8200</td>\n",
              "      <td>108.01</td>\n",
              "      <td>108.44</td>\n",
              "      <td>1318965</td>\n",
              "      <td>0.0</td>\n",
              "      <td>1.0</td>\n",
              "    </tr>\n",
              "    <tr>\n",
              "      <th>4</th>\n",
              "      <td>ADBE</td>\n",
              "      <td>2016-10-19 00:00:00+00:00</td>\n",
              "      <td>108.39</td>\n",
              "      <td>108.8900</td>\n",
              "      <td>108.15</td>\n",
              "      <td>108.81</td>\n",
              "      <td>1282176</td>\n",
              "      <td>108.39</td>\n",
              "      <td>108.8900</td>\n",
              "      <td>108.15</td>\n",
              "      <td>108.81</td>\n",
              "      <td>1282176</td>\n",
              "      <td>0.0</td>\n",
              "      <td>1.0</td>\n",
              "    </tr>\n",
              "  </tbody>\n",
              "</table>\n",
              "</div>"
            ],
            "text/plain": [
              "  symbol                       date   close  ...  adjVolume  divCash  splitFactor\n",
              "0   ADBE  2016-10-13 00:00:00+00:00  108.01  ...    1588510      0.0          1.0\n",
              "1   ADBE  2016-10-14 00:00:00+00:00  107.84  ...    1968363      0.0          1.0\n",
              "2   ADBE  2016-10-17 00:00:00+00:00  107.49  ...    1136503      0.0          1.0\n",
              "3   ADBE  2016-10-18 00:00:00+00:00  108.42  ...    1318965      0.0          1.0\n",
              "4   ADBE  2016-10-19 00:00:00+00:00  108.39  ...    1282176      0.0          1.0\n",
              "\n",
              "[5 rows x 14 columns]"
            ]
          },
          "metadata": {},
          "execution_count": 57
        }
      ]
    },
    {
      "cell_type": "code",
      "metadata": {
        "id": "WFyBynfqicq9"
      },
      "source": [
        "#reset the index and take out close column\n",
        "df1=df.reset_index()['close']"
      ],
      "execution_count": 58,
      "outputs": []
    },
    {
      "cell_type": "code",
      "metadata": {
        "colab": {
          "base_uri": "https://localhost:8080/"
        },
        "id": "DQa7ML3Pi-UU",
        "outputId": "22703b73-97b5-4020-ba72-d39f20e83893"
      },
      "source": [
        "df1.shape"
      ],
      "execution_count": 59,
      "outputs": [
        {
          "output_type": "execute_result",
          "data": {
            "text/plain": [
              "(1258,)"
            ]
          },
          "metadata": {},
          "execution_count": 59
        }
      ]
    },
    {
      "cell_type": "code",
      "metadata": {
        "colab": {
          "base_uri": "https://localhost:8080/",
          "height": 282
        },
        "id": "KLifp0CXi_Qw",
        "outputId": "f0de3e32-03a7-4ab5-d707-74b9cab823ec"
      },
      "source": [
        "import matplotlib.pyplot as plt\n",
        "plt.plot(df1)"
      ],
      "execution_count": 60,
      "outputs": [
        {
          "output_type": "execute_result",
          "data": {
            "text/plain": [
              "[<matplotlib.lines.Line2D at 0x7ff94f396950>]"
            ]
          },
          "metadata": {},
          "execution_count": 60
        },
        {
          "output_type": "display_data",
          "data": {
            "image/png": "[encoded data removed]",
            "text/plain": [
              "<Figure size 432x288 with 1 Axes>"
            ]
          },
          "metadata": {
            "needs_background": "light"
          }
        }
      ]
    },
    {
      "cell_type": "code",
      "metadata": {
        "id": "B0NmXqBljGek"
      },
      "source": [
        "import numpy as np\n",
        "from sklearn.preprocessing import MinMaxScaler\n",
        "scaler=MinMaxScaler(feature_range=(0,1))\n",
        "df1=scaler.fit_transform(np.array(df1).reshape(-1,1))"
      ],
      "execution_count": 61,
      "outputs": []
    },
    {
      "cell_type": "code",
      "metadata": {
        "colab": {
          "base_uri": "https://localhost:8080/"
        },
        "id": "TlDXrW1dkf5L",
        "outputId": "cd586e51-fe6a-4e5f-d80f-bf51fd621d4e"
      },
      "source": [
        "df1"
      ],
      "execution_count": 62,
      "outputs": [
        {
          "output_type": "execute_result",
          "data": {
            "text/plain": [
              "array([[0.01498907],\n",
              "       [0.01468929],\n",
              "       [0.01407209],\n",
              "       ...,\n",
              "       [0.84176836],\n",
              "       [0.835085  ],\n",
              "       [0.84852225]])"
            ]
          },
          "metadata": {},
          "execution_count": 62
        }
      ]
    },
    {
      "cell_type": "code",
      "metadata": {
        "colab": {
          "base_uri": "https://localhost:8080/"
        },
        "id": "ntTZhUchkjaq",
        "outputId": "da3e6ad9-54ae-4970-8505-84abe99f6868"
      },
      "source": [
        "##splitting dataset into train and test split\n",
        "training_size=int(len(df1)*0.65)\n",
        "test_size=len(df1)-training_size\n",
        "training_size, test_size"
      ],
      "execution_count": 63,
      "outputs": [
        {
          "output_type": "execute_result",
          "data": {
            "text/plain": [
              "(817, 441)"
            ]
          },
          "metadata": {},
          "execution_count": 63
        }
      ]
    },
    {
      "cell_type": "code",
      "metadata": {
        "colab": {
          "base_uri": "https://localhost:8080/"
        },
        "id": "5iDcwtN7lVSQ",
        "outputId": "cacec5e7-f35c-4872-dd4b-6a1e5ac822a6"
      },
      "source": [
        "print(df1[0:training_size,:].shape)\n",
        "print(df1[training_size:len(df1),:1].shape)"
      ],
      "execution_count": 64,
      "outputs": [
        {
          "output_type": "stream",
          "name": "stdout",
          "text": [
            "(817, 1)\n",
            "(441, 1)\n"
          ]
        }
      ]
    },
    {
      "cell_type": "code",
      "metadata": {
        "id": "bHM0o2AmlKxg"
      },
      "source": [
        "\n",
        "##splitting dataset into train and test split\n",
        "train_data,test_data=df1[0:training_size,:],df1[training_size:len(df1),:1]"
      ],
      "execution_count": 65,
      "outputs": []
    },
    {
      "cell_type": "code",
      "metadata": {
        "colab": {
          "base_uri": "https://localhost:8080/"
        },
        "id": "LGHoDVCYpc6d",
        "outputId": "93418a1f-361d-4764-b5cc-a3d9e9217d21"
      },
      "source": [
        "len(train_data)"
      ],
      "execution_count": 66,
      "outputs": [
        {
          "output_type": "execute_result",
          "data": {
            "text/plain": [
              "817"
            ]
          },
          "metadata": {},
          "execution_count": 66
        }
      ]
    },
    {
      "cell_type": "code",
      "metadata": {
        "id": "2QAhoU9Qm34F"
      },
      "source": [
        "import numpy\n",
        "# convert an array of values into a dataset matrix\n",
        "def create_dataset(dataset, time_step=1):\n",
        "\tdataX, dataY = [], []\n",
        "\tfor i in range(len(dataset)-time_step-1):\n",
        "\t\ta = dataset[i:(i+time_step), 0]   ###i=0, 0,1,2,3-----99   100 \n",
        "\t\tdataX.append(a)\n",
        "\t\tdataY.append(dataset[i + time_step, 0])\n",
        "\treturn numpy.array(dataX), numpy.array(dataY)"
      ],
      "execution_count": 82,
      "outputs": []
    },
    {
      "cell_type": "code",
      "metadata": {
        "id": "ootsB0RfpDQW"
      },
      "source": [
        "# reshape into X=t,t+1,t+2,t+3 and Y=t+4\n",
        "time_step = 100\n",
        "X_train, y_train = create_dataset(train_data, time_step)\n",
        "X_test, ytest = create_dataset(test_data, time_step)"
      ],
      "execution_count": 83,
      "outputs": []
    },
    {
      "cell_type": "code",
      "metadata": {
        "colab": {
          "base_uri": "https://localhost:8080/"
        },
        "id": "Da9N2VlPpEpD",
        "outputId": "ba1503e7-4467-4805-b0ff-f7b75556bed8"
      },
      "source": [
        "print(X_train.shape), print(y_train.shape)\n"
      ],
      "execution_count": 84,
      "outputs": [
        {
          "output_type": "stream",
          "name": "stdout",
          "text": [
            "(716, 100)\n",
            "(716,)\n"
          ]
        },
        {
          "output_type": "execute_result",
          "data": {
            "text/plain": [
              "(None, None)"
            ]
          },
          "metadata": {},
          "execution_count": 84
        }
      ]
    },
    {
      "cell_type": "code",
      "metadata": {
        "id": "bZZu07JapHhh"
      },
      "source": [
        ""
      ],
      "execution_count": null,
      "outputs": []
    }
  ]
}